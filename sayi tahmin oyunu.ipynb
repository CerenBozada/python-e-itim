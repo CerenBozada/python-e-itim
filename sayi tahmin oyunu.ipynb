{
 "cells": [
  {
   "cell_type": "code",
   "execution_count": null,
   "metadata": {},
   "outputs": [],
   "source": [
    "from random import randint\n",
    " \n",
    "def get_random_sayi():\n",
    "    return randint(1,10)\n",
    "print(get_random_sayi())\n",
    "guess=0\n",
    " \n",
    "while True:\n",
    "    guess+=1\n",
    "    sayi=int(input(\"1 ile 100 arasında değer girin ,0  ile Çıkın):\"))\n",
    "    if(sayi==0):\n",
    "        print(\"Oyun Bitti\")\n",
    "        break\n",
    "    elif sayi < guess:\n",
    "        print(\"Daha büyük sayı girmen lazım\")\n",
    "        continue\n",
    "    elif sayi > guess:\n",
    "        print(\"Daha düşük sayı girmen lazım\")\n",
    "        continue\n",
    "    else:\n",
    "        print(\"random sayı {0}!\".format(get_random_sayi))\n",
    "        print(\"Tahmin ettiğiniz {0}\".format(guess))"
   ]
  }
 ],
 "metadata": {
  "language_info": {
   "name": "python"
  },
  "orig_nbformat": 4
 },
 "nbformat": 4,
 "nbformat_minor": 2
}
